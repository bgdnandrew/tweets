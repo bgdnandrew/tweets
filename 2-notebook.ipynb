{
 "cells": [
  {
   "cell_type": "markdown",
   "metadata": {},
   "source": [
    "$x_{n+1}=x_{n}-\\frac{f(x_{n})}{f^\\prime(x_{n})}$ "
   ]
  }
 ],
 "metadata": {
  "kernelspec": {
   "display_name": "Python 3.10.1 ('tweets-oY-4tzFu')",
   "language": "python",
   "name": "python3"
  },
  "language_info": {
   "name": "python",
   "version": "3.10.1"
  },
  "orig_nbformat": 4,
  "vscode": {
   "interpreter": {
    "hash": "77a1a4308bfeb4b5af18b8021aa08675648b9b1b8401332af52251d6b341dcc6"
   }
  }
 },
 "nbformat": 4,
 "nbformat_minor": 2
}
